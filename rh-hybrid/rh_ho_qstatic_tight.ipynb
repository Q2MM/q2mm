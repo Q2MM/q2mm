{
 "cells": [
  {
   "cell_type": "markdown",
   "metadata": {},
   "source": [
    "**Rhodium Hydrogenation of Enamides TSFF Parameterized by a new Hybrid Optimizer**\n",
    "\n",
    "Rh Hyd Enamides TSFF as a test case for the use of a new Hybrid Particle Swarm-Differential Evolution Optimization Algorithm (hybrid_optimizer) developed by Mikaela Farrugia (github: @mmfarrugia) under Olaf Wiest & Paul Helquist.\n",
    "\n",
    "These are all being run with the pbest localization as convergence criterion.\n",
    "Note: Score distributions are incorrect due to funky mm3.fld vs mm3.hybrid.fld issue which is now fixed but untested/unrun"
   ]
  },
  {
   "cell_type": "code",
   "execution_count": null,
   "metadata": {},
   "outputs": [],
   "source": [
    "import os\n",
    "import matplotlib.pyplot as plt\n",
    "from pathlib import Path\n",
    "import numpy as np\n",
    "import sys\n",
    "from matplotlib import animation, rc\n",
    "from IPython.display import HTML, Image\n",
    "import seaborn\n",
    "import pickle\n",
    "import pandas as pd\n",
    "from numpy import copy\n",
    "from scipy import stats\n",
    "import itertools\n",
    "\n",
    "seaborn.set_theme(style=\"whitegrid\", palette='pastel')\n",
    "\n",
    "#src_dir = os.path.abspath(\"/home/mmfarrugia/repos/q2mm/q2mm\")\n",
    "sys.path.append(\"/home/mfarrugi/repos/q2mm/rh-hybrid/schrodinger.ve/lib/python3.8/site-packages/q2mm-0.0.0-py3.8.egg\")\n",
    "\n",
    "#from hybrid_optimizer import PSO_GA\n",
    "import q2mm.hybrid_optimizer as hybrid_optimizer\n",
    "from q2mm.hybrid_optimizer import PSO_DE\n",
    "from tools.plotters import plot_cost_history, plot_contour, plot_surface, plot_summary, Mesher, Designer\n",
    "\n"
   ]
  },
  {
   "cell_type": "markdown",
   "metadata": {},
   "source": [
    "\n",
    "All are done with 8 workers, 10 particles/TSFF candidates, with 0.001 convergence criteria, run for loop cycles of 50 iter maximum with 3 technical replicates run for each case. Further information regarding the settings, files, and parameters used in the optimizations can be found in their respective directories under the README.txt file.\n",
    "\n",
    "All hyperparameters are derived from literature **INCLUDE REFS** and use either the TIGHT_OPT_CONFIG or GLOBAL_OPT_CONFIG of HO."
   ]
  },
  {
   "cell_type": "code",
   "execution_count": null,
   "metadata": {},
   "outputs": [],
   "source": [
    "num_particles = 10\n",
    "cycle_iter_length = 50\n",
    "num_workers = 8\n",
    "convergence_criteria = 0.001\n",
    "num_tech_replicates = 3\n",
    "num_params = 31"
   ]
  },
  {
   "cell_type": "markdown",
   "metadata": {},
   "source": [
    "**Start: FCs = 0.5 + Donoghue charges**\n",
    "\n",
    "Original Score: 2.67645"
   ]
  },
  {
   "cell_type": "code",
   "execution_count": null,
   "metadata": {},
   "outputs": [],
   "source": [
    "# Gather data on starting point\n",
    "\n",
    "static_score = 2.67645\n",
    "score_cols = [\"Label\", \"Weight\", \"Reference\", \"Calculated\", \"Score\", \"FF\"]\n",
    "skiprows=[0, 1, 106390, 106391, 106392, 106393, 106394, 106395, 106396, 106397, 106398, 106399, 106400, 106401]\n",
    "\n",
    "static_scores = pd.read_csv('/home/mfarrugi/repos/q2mm/rh-hybrid/static_start/rh_qstatic_start.txt', skiprows=skiprows, delim_whitespace=True, names=score_cols).assign(FF=0)\n",
    "# /opt_qstatic_start_hybrid_eig\n",
    "bond_cols = [\"param_type\", \"atom1\", \"atom2\", \"Equilibrium Value\", \"Force Constant\", \"Dipole Moment\", \"FF\"]\n",
    "angle_cols = [\"param_type\", \"atom1\", \"atom2\", \"atom3\", \"Equilibrium Value\", \"Force Constant\", \"FF\"]\n",
    "\n",
    "bond_rows = np.arange(1859, 1867)\n",
    "angle_rows = np.arange(1867, 1889)\n",
    "\n",
    "bond_start = pd.read_csv('/home/mfarrugi/repos/q2mm/rh-hybrid/static_start/mm3.old.fld', skiprows=lambda x: x not in bond_rows, delim_whitespace=True, names=bond_cols).assign(FF=0)\n",
    "angle_start = pd.read_csv('/home/mfarrugi/repos/q2mm/rh-hybrid/static_start/mm3.old.fld', skiprows=lambda x: x not in angle_rows, delim_whitespace=True, names=angle_cols).assign(FF=0)\n"
   ]
  },
  {
   "cell_type": "markdown",
   "metadata": {},
   "source": [
    "TIGHT SPREAD!!"
   ]
  },
  {
   "cell_type": "markdown",
   "metadata": {},
   "source": [
    "PSO ONLY"
   ]
  },
  {
   "cell_type": "code",
   "execution_count": null,
   "metadata": {},
   "outputs": [],
   "source": [
    "base_directory = '/home/mfarrugi/repos/q2mm/rh-hybrid/static_start/tight_spread/pso_only'\n",
    "directory_list = ['1', '2', '3']"
   ]
  },
  {
   "cell_type": "code",
   "execution_count": null,
   "metadata": {},
   "outputs": [],
   "source": [
    "%matplotlib inline\n",
    "# PSO ONLY\n",
    "fig, ax = plt.subplots(1, 2, figsize=(24, 8))\n",
    "fig.suptitle('STATIC FC Estimate under a PSO only - Rh Hyd Enamides')\n",
    "ax[0].set_title('Score Diversity Throughout Parameterization')\n",
    "ax[1].set_title('Loss, aka Best Score Throughout Parameterization')\n",
    "\n",
    "ax[0].axhline(y=static_score, color='gray')\n",
    "ax[1].axhline(y=static_score, color='gray')\n",
    "\n",
    "for directory in directory_list:\n",
    "\n",
    "    swarm_history_file = open(os.path.join(base_directory, directory, 'hybrid_opt_history.bin'), 'rb')\n",
    "    swarm_history = pickle.load(swarm_history_file)\n",
    "    swarm_history_file.close()\n",
    "    num_iters = len(swarm_history['Y'])\n",
    "    num_ffs = len(swarm_history['Y'][0])\n",
    "    assert num_ffs == num_particles\n",
    "    color = next(ax[0]._get_lines.prop_cycler)['color']\n",
    "    Y_history = pd.DataFrame(np.array(swarm_history['Y']).reshape((num_iters, num_ffs)))\n",
    "    ax[0].plot(Y_history.index, Y_history.values, '.', color=color)\n",
    "    loss = Y_history.min(axis=1).cummin()\n",
    "    loss.plot(kind='line', ax=ax[1], color=color, label='Final Score: '+str(loss.iloc[-1]))\n",
    "\n",
    "ax[1].legend()\n",
    "\n",
    "ax[0].xaxis.set_ticks(np.arange(1, ax[0].get_xlim()[1], cycle_iter_length))\n",
    "ax[1].xaxis.set_ticks(np.arange(1, ax[0].get_xlim()[1], cycle_iter_length))\n",
    "\n",
    "plt.show()"
   ]
  },
  {
   "cell_type": "code",
   "execution_count": null,
   "metadata": {},
   "outputs": [],
   "source": [
    "%matplotlib inline\n",
    "# Plot Scores\n",
    "\n",
    "score_cols = [\"Label\", \"Weight\", \"Reference\", \"Calculated\", \"Score\", \"FF\"]\n",
    "runs = []\n",
    "for directory in directory_list:\n",
    "    runs.append(pd.read_csv(os.path.join(base_directory, directory, 'rh_qstatic_pso_end.txt'), skiprows=[0, 1, 106390, 106391, 106392, 106393, 106394, 106395, 106396, 106397, 106398, 106399, 106400, 106401], delim_whitespace=True, names=score_cols).assign(FF=directory))\n"
   ]
  },
  {
   "cell_type": "code",
   "execution_count": null,
   "metadata": {},
   "outputs": [],
   "source": [
    "fig, ax = plt.subplots(1, len(runs)+1, figsize=(25, 8))\n",
    "palette = itertools.cycle(seaborn.color_palette())\n",
    "\n",
    "color = next(palette)\n",
    "seaborn.regplot(data=static_scores, x=score_cols[2], y=score_cols[3], fit_reg=True, ax=ax[0], color=color)\n",
    "ax[0].set_ylim(top=5000)\n",
    "ax[0].set_xlim(xmax = 5000)\n",
    "\n",
    "for i, run in enumerate(runs):\n",
    "    color = next(palette)\n",
    "    seaborn.regplot(data=run, x=score_cols[2], y=score_cols[3], fit_reg=True, ax=ax[i+1], color=color)\n",
    "\n",
    "    ax[i+1].set_ylim(top=5000)\n",
    "    ax[i+1].set_xlim(xmax = 5000)\n",
    "\n",
    "plt.show()"
   ]
  },
  {
   "cell_type": "code",
   "execution_count": null,
   "metadata": {},
   "outputs": [],
   "source": [
    "# Plot only off diagonal elements\n",
    "\n",
    "\n",
    "fig, ax = plt.subplots(1, 4, figsize=(32, 10))\n",
    "palette = itertools.cycle(seaborn.color_palette())\n",
    "\n",
    "off_diag_start = static_scores.loc[static_scores['Reference'] == 0.0000]\n",
    "off_diag_start = off_diag_start.sort_values(by='Calculated', ignore_index=True)\n",
    "seaborn.regplot(data=off_diag_start, x=off_diag_start.index, y=score_cols[3], fit_reg=False, ax=ax[0], color='gray')\n",
    "\n",
    "for i, run in enumerate(runs):\n",
    "    off_diag = run.loc[run['Reference'] == 0.0000]\n",
    "    off_diag = off_diag.sort_values(by='Calculated', ignore_index=True)\n",
    "\n",
    "    color = next(palette)\n",
    "    seaborn.regplot(data=off_diag, x=off_diag.index, y=score_cols[3], fit_reg=False, ax=ax[i+1], color=color)\n",
    "\n",
    "plt.show()\n"
   ]
  },
  {
   "cell_type": "code",
   "execution_count": null,
   "metadata": {},
   "outputs": [],
   "source": [
    "# VIOLIN Plot only off diagonal elements\n",
    "\n",
    "\n",
    "fig, ax = plt.subplots(1, 1, figsize=(16, 8))\n",
    "off_diag_merged = pd.concat([run.loc[run['Reference'] == 0.0000] for run in runs])\n",
    "off_diag_merged = pd.concat([off_diag_merged, off_diag_start])\n",
    "off_diag_merged = off_diag_merged.sort_values(by='Calculated')\n",
    "\n",
    "seaborn.boxplot(data=off_diag_merged, x='FF', y=score_cols[3])\n",
    "\n",
    "plt.show()"
   ]
  },
  {
   "cell_type": "code",
   "execution_count": null,
   "metadata": {},
   "outputs": [],
   "source": [
    "# Plot Diagonal Elements with a linear fit\n",
    "\n",
    "fig, ax = plt.subplots(1, 4, figsize=(32,8))\n",
    "palette = itertools.cycle(seaborn.color_palette())\n",
    "\n",
    "diag = static_scores.loc[static_scores['Reference'] != 0.0000]\n",
    "slope, intercept, r2, pv, se = stats.linregress(diag['Reference'], diag['Calculated'])\n",
    "\n",
    "seaborn.regplot(data=diag, x='Calculated', y='Reference', color=next(palette), line_kws={'label':'$y=%3.7s*x+%3.7s   r2:%3.7s$'%(slope, intercept, r2)}, ax=ax[0])\n",
    "ax[0].legend()\n",
    "\n",
    "for i, run in enumerate(runs):\n",
    "    diag = run.loc[run['Reference'] != 0.0000]\n",
    "    slope, intercept, r2, pv, se = stats.linregress(diag['Reference'], diag['Calculated'])\n",
    "    \n",
    "    seaborn.regplot(data=diag, x='Calculated', y='Reference', color=next(palette), line_kws={'label':'$y=%3.7s*x+%3.7s   r2:%3.7s$'%(slope, intercept, r2)}, ax=ax[i+1])\n",
    "\n",
    "    ax[i+1].legend()"
   ]
  },
  {
   "cell_type": "code",
   "execution_count": null,
   "metadata": {},
   "outputs": [],
   "source": [
    "%matplotlib inline\n",
    "# Plot FCs\n",
    "\n",
    "bonds = []\n",
    "angles = []\n",
    "\n",
    "for directory in directory_list:\n",
    "    bonds.append(pd.read_csv(os.path.join(base_directory, directory, 'rh_qstatic_pso_end.fld'), skiprows=lambda x: x not in bond_rows, delim_whitespace=True, names=bond_cols).assign(FF=directory))\n",
    "    angles.append(pd.read_csv(os.path.join(base_directory, directory, 'rh_qstatic_pso_end.fld'), skiprows=lambda x: x not in angle_rows, delim_whitespace=True, names=angle_cols).assign(FF=directory))\n"
   ]
  },
  {
   "cell_type": "code",
   "execution_count": null,
   "metadata": {},
   "outputs": [],
   "source": [
    "fig, ax = plt.subplots(1, 2, figsize=(24, 8))\n",
    "fig.suptitle('STATIC FC Estimate under a PSO only - Rh Hyd Enamides')\n",
    "ax[0].set_title('Bonds')\n",
    "ax[1].set_title('Angles')\n",
    "\n",
    "palette = itertools.cycle(seaborn.color_palette())\n",
    "\n",
    "color = next(palette)\n",
    "seaborn.regplot(data=bond_start, label='STATIC', x = bond_start.index, y=\"Force Constant\", fit_reg=False, ax=ax[0], color=color)\n",
    "seaborn.regplot(data=angle_start, label='STATIC', x = angle_start.index, y=\"Force Constant\", fit_reg=False, ax=ax[1], color=color)\n",
    "\n",
    "for i in range(len(directory_list)):\n",
    "    color = next(palette)\n",
    "    seaborn.regplot(data=bonds[i], label='FF', x = bonds[i].index, y=\"Force Constant\", fit_reg=False, ax=ax[0], color=color)\n",
    "    seaborn.regplot(data=angles[i], label='FF', x = angles[i].index, y=\"Force Constant\", fit_reg=False, ax=ax[1], color=color)\n",
    "\n",
    "ax[1].legend()\n",
    "plt.show()"
   ]
  },
  {
   "cell_type": "markdown",
   "metadata": {},
   "source": [
    "DE ONLY"
   ]
  },
  {
   "cell_type": "code",
   "execution_count": null,
   "metadata": {},
   "outputs": [],
   "source": [
    "base_directory = '/home/mfarrugi/repos/q2mm/rh-hybrid/static_start/tight_spread/de_only'\n",
    "directory_list = ['1']#, '2', '3']"
   ]
  },
  {
   "cell_type": "code",
   "execution_count": null,
   "metadata": {},
   "outputs": [],
   "source": [
    "%matplotlib inline\n",
    "# DE ONLY\n",
    "fig, ax = plt.subplots(1, 2, figsize=(24, 8))\n",
    "fig.suptitle('STATIC FC Estimate under a DE only - Rh Hyd Enamides')\n",
    "ax[0].set_title('Score Diversity Throughout Parameterization')\n",
    "ax[1].set_title('Loss, aka Best Score Throughout Parameterization')\n",
    "\n",
    "ax[0].axhline(y=static_score, color='gray')\n",
    "ax[1].axhline(y=static_score, color='gray')\n",
    "\n",
    "for directory in directory_list:\n",
    "\n",
    "    swarm_history_file = open(os.path.join(base_directory, directory, 'hybrid_opt_history.bin'), 'rb')\n",
    "    swarm_history = pickle.load(swarm_history_file)\n",
    "    swarm_history_file.close()\n",
    "    num_iters = len(swarm_history['Y'])\n",
    "    num_ffs = len(swarm_history['Y'][0])\n",
    "    assert num_ffs == num_particles\n",
    "    color = next(ax[0]._get_lines.prop_cycler)['color']\n",
    "    Y_history = pd.DataFrame(np.array(swarm_history['Y']).reshape((num_iters, num_ffs)))\n",
    "    ax[0].plot(Y_history.index, Y_history.values, '.', color=color)\n",
    "    loss = Y_history.min(axis=1).cummin()\n",
    "    loss.plot(kind='line', ax=ax[1], color=color, label='Final Score: '+str(loss.iloc[-1]))\n",
    "\n",
    "ax[1].legend()\n",
    "ax[0].set_ylim(top=10)\n",
    "ax[0].xaxis.set_ticks(np.arange(1, ax[0].get_xlim()[1], cycle_iter_length))\n",
    "ax[1].xaxis.set_ticks(np.arange(1, ax[0].get_xlim()[1], cycle_iter_length))\n",
    "\n",
    "plt.show()"
   ]
  },
  {
   "cell_type": "code",
   "execution_count": null,
   "metadata": {},
   "outputs": [],
   "source": [
    "%matplotlib inline\n",
    "# Plot Scores\n",
    "\n",
    "score_cols = [\"Label\", \"Weight\", \"Reference\", \"Calculated\", \"Score\", \"FF\"]\n",
    "runs = []\n",
    "for directory in directory_list:\n",
    "    runs.append(pd.read_csv(os.path.join(base_directory, directory, 'rh_qstatic_de_end.txt'), skiprows=[0, 1, 106390, 106391, 106392, 106393, 106394, 106395, 106396, 106397, 106398, 106399, 106400, 106401], delim_whitespace=True, names=score_cols).assign(FF=directory))\n"
   ]
  },
  {
   "cell_type": "code",
   "execution_count": null,
   "metadata": {},
   "outputs": [],
   "source": [
    "fig, ax = plt.subplots(1, len(runs)+1, figsize=(25, 8))\n",
    "palette = itertools.cycle(seaborn.color_palette())\n",
    "\n",
    "#TODO plot against starting point\n",
    "color = next(palette)\n",
    "seaborn.regplot(data=static_scores, x=score_cols[2], y=score_cols[3], fit_reg=True, ax=ax[0], color=color)\n",
    "ax[0].set_ylim(top=5000)\n",
    "ax[0].set_xlim(xmax = 5000)\n",
    "\n",
    "for i, run in enumerate(runs):\n",
    "    color = next(palette)\n",
    "    seaborn.regplot(data=run, x=score_cols[2], y=score_cols[3], fit_reg=True, ax=ax[i+1], color=color)\n",
    "\n",
    "    ax[i+1].set_ylim(top=5000)\n",
    "    ax[i+1].set_xlim(xmax = 5000)\n",
    "\n",
    "plt.show()"
   ]
  },
  {
   "cell_type": "code",
   "execution_count": null,
   "metadata": {},
   "outputs": [],
   "source": [
    "# Plot only off diagonal elements\n",
    "\n",
    "\n",
    "fig, ax = plt.subplots(1, 4, figsize=(32, 10))\n",
    "palette = itertools.cycle(seaborn.color_palette())\n",
    "\n",
    "off_diag_start = static_scores.loc[static_scores['Reference'] == 0.0000]\n",
    "off_diag_start = off_diag_start.sort_values(by='Calculated', ignore_index=True)\n",
    "seaborn.regplot(data=off_diag_start, x=off_diag_start.index, y=score_cols[3], fit_reg=False, ax=ax[0], color='gray')\n",
    "\n",
    "for i, run in enumerate(runs):\n",
    "    off_diag = run.loc[run['Reference'] == 0.0000]\n",
    "    off_diag = off_diag.sort_values(by='Calculated', ignore_index=True)\n",
    "\n",
    "    color = next(palette)\n",
    "    seaborn.regplot(data=off_diag, x=off_diag.index, y=score_cols[3], fit_reg=False, ax=ax[i+1], color=color)\n",
    "\n",
    "plt.show()\n"
   ]
  },
  {
   "cell_type": "code",
   "execution_count": null,
   "metadata": {},
   "outputs": [],
   "source": [
    "# VIOLIN Plot only off diagonal elements\n",
    "\n",
    "\n",
    "fig, ax = plt.subplots(1, 1, figsize=(16, 8))\n",
    "off_diag_merged = pd.concat([run.loc[run['Reference'] == 0.0000] for run in runs])\n",
    "off_diag_merged = pd.concat([off_diag_merged, off_diag_start])\n",
    "off_diag_merged = off_diag_merged.sort_values(by='Calculated')\n",
    "\n",
    "seaborn.boxplot(data=off_diag_merged, x='FF', y=score_cols[3])\n",
    "\n",
    "plt.show()"
   ]
  },
  {
   "cell_type": "code",
   "execution_count": null,
   "metadata": {},
   "outputs": [],
   "source": [
    "# Plot Diagonal Elements with a linear fit\n",
    "\n",
    "fig, ax = plt.subplots(1, 4, figsize=(32,8))\n",
    "palette = itertools.cycle(seaborn.color_palette())\n",
    "\n",
    "diag = static_scores.loc[static_scores['Reference'] != 0.0000]\n",
    "slope, intercept, r2, pv, se = stats.linregress(diag['Reference'], diag['Calculated'])\n",
    "\n",
    "seaborn.regplot(data=diag, x='Calculated', y='Reference', color=next(palette), line_kws={'label':'$y=%3.7s*x+%3.7s   r2:%3.7s$'%(slope, intercept, r2)}, ax=ax[0])\n",
    "ax[0].legend()\n",
    "\n",
    "for i, run in enumerate(runs):\n",
    "    diag = run.loc[run['Reference'] != 0.0000]\n",
    "    slope, intercept, r2, pv, se = stats.linregress(diag['Reference'], diag['Calculated'])\n",
    "    \n",
    "    seaborn.regplot(data=diag, x='Calculated', y='Reference', color=next(palette), line_kws={'label':'$y=%3.7s*x+%3.7s   r2:%3.7s$'%(slope, intercept, r2)}, ax=ax[i+1])\n",
    "\n",
    "    ax[i+1].legend()"
   ]
  },
  {
   "cell_type": "code",
   "execution_count": null,
   "metadata": {},
   "outputs": [],
   "source": [
    "%matplotlib inline\n",
    "# Plot FCs\n",
    "\n",
    "bonds = []\n",
    "angles = []\n",
    "\n",
    "for directory in directory_list:\n",
    "    bonds.append(pd.read_csv(os.path.join(base_directory, directory, 'rh_qstatic_de_end.fld'), skiprows=lambda x: x not in bond_rows, delim_whitespace=True, names=bond_cols).assign(FF=directory))\n",
    "    angles.append(pd.read_csv(os.path.join(base_directory, directory, 'rh_qstatic_de_end.fld'), skiprows=lambda x: x not in angle_rows, delim_whitespace=True, names=angle_cols).assign(FF=directory))\n"
   ]
  },
  {
   "cell_type": "code",
   "execution_count": null,
   "metadata": {},
   "outputs": [],
   "source": [
    "fig, ax = plt.subplots(1, 2, figsize=(24, 8))\n",
    "fig.suptitle('STATIC FC Estimate under a DE only - Rh Hyd Enamides')\n",
    "ax[0].set_title('Bonds')\n",
    "ax[1].set_title('Angles')\n",
    "\n",
    "palette = itertools.cycle(seaborn.color_palette())\n",
    "\n",
    "for i in range(len(directory_list)):\n",
    "    color = next(palette)\n",
    "    seaborn.regplot(data=bonds[i], x = bonds[i].index, y=\"Force Constant\", fit_reg=False, ax=ax[0], color=color)\n",
    "    seaborn.regplot(data=angles[i], x = angles[i].index, y=\"Force Constant\", fit_reg=False, ax=ax[1], color=color)\n",
    "\n",
    "\n",
    "plt.show()"
   ]
  },
  {
   "cell_type": "markdown",
   "metadata": {},
   "source": [
    "HYBRID NO TAPER"
   ]
  },
  {
   "cell_type": "code",
   "execution_count": null,
   "metadata": {},
   "outputs": [],
   "source": [
    "base_directory = '/home/mfarrugi/repos/q2mm/rh-hybrid/static_start/tight_spread/de_throughout'\n",
    "directory_list = ['1', '2', '3']"
   ]
  },
  {
   "cell_type": "code",
   "execution_count": null,
   "metadata": {},
   "outputs": [],
   "source": [
    "%matplotlib inline\n",
    "# HYBRID NO TAPER\n",
    "fig, ax = plt.subplots(1, 2, figsize=(24, 8))\n",
    "fig.suptitle('STATIC FC Estimate under a DE-throughout HO - Rh Hyd Enamides')\n",
    "ax[0].set_title('Score Diversity Throughout Parameterization')\n",
    "ax[1].set_title('Loss, aka Best Score Throughout Parameterization')\n",
    "\n",
    "ax[0].axhline(y=static_score, color='gray')\n",
    "ax[1].axhline(y=static_score, color='gray')\n",
    "\n",
    "for directory in directory_list:\n",
    "\n",
    "    swarm_history_file = open(os.path.join(base_directory, directory, 'hybrid_opt_history.bin'), 'rb')\n",
    "    swarm_history = pickle.load(swarm_history_file)\n",
    "    swarm_history_file.close()\n",
    "    num_iters = len(swarm_history['Y'])\n",
    "    num_ffs = len(swarm_history['Y'][0])\n",
    "    assert num_ffs == num_particles\n",
    "    color = next(ax[0]._get_lines.prop_cycler)['color']\n",
    "    Y_history = pd.DataFrame(np.array(swarm_history['Y']).reshape((num_iters, num_ffs)))\n",
    "    ax[0].plot(Y_history.index, Y_history.values, '.', color=color)\n",
    "    loss = Y_history.min(axis=1).cummin()\n",
    "    loss.plot(kind='line', ax=ax[1], color=color, label='Final Score: '+str(loss.iloc[-1]))\n",
    "\n",
    "ax[1].legend()\n",
    "\n",
    "ax[0].xaxis.set_ticks(np.arange(1, ax[0].get_xlim()[1], cycle_iter_length))\n",
    "ax[1].xaxis.set_ticks(np.arange(1, ax[0].get_xlim()[1], cycle_iter_length))\n",
    "\n",
    "plt.show()"
   ]
  },
  {
   "cell_type": "code",
   "execution_count": null,
   "metadata": {},
   "outputs": [],
   "source": [
    "%matplotlib inline\n",
    "# Plot Scores\n",
    "\n",
    "score_cols = [\"Label\", \"Weight\", \"Reference\", \"Calculated\", \"Score\", \"FF\"]\n",
    "runs = []\n",
    "for directory in directory_list:\n",
    "    runs.append(pd.read_csv(os.path.join(base_directory, directory, 'rh_qstatic_ho_end.txt'), skiprows=[0, 1, 106390, 106391, 106392, 106393, 106394, 106395, 106396, 106397, 106398, 106399, 106400, 106401], delim_whitespace=True, names=score_cols).assign(FF=directory))\n"
   ]
  },
  {
   "cell_type": "code",
   "execution_count": null,
   "metadata": {},
   "outputs": [],
   "source": [
    "fig, ax = plt.subplots(1, len(runs)+1, figsize=(25, 8))\n",
    "palette = itertools.cycle(seaborn.color_palette())\n",
    "\n",
    "#TODO plot against starting point\n",
    "color = next(palette)\n",
    "seaborn.regplot(data=static_scores, x=score_cols[2], y=score_cols[3], fit_reg=True, ax=ax[0], color=color)\n",
    "ax[0].set_ylim(top=5000)\n",
    "ax[0].set_xlim(xmax = 5000)\n",
    "\n",
    "for i, run in enumerate(runs):\n",
    "    color = next(palette)\n",
    "    seaborn.regplot(data=run, x=score_cols[2], y=score_cols[3], fit_reg=True, ax=ax[i+1], color=color)\n",
    "\n",
    "    ax[i+1].set_ylim(top=5000)\n",
    "    ax[i+1].set_xlim(xmax = 5000)\n",
    "\n",
    "plt.show()"
   ]
  },
  {
   "cell_type": "code",
   "execution_count": null,
   "metadata": {},
   "outputs": [],
   "source": [
    "# Plot only off diagonal elements\n",
    "\n",
    "\n",
    "fig, ax = plt.subplots(1, 4, figsize=(32, 10))\n",
    "palette = itertools.cycle(seaborn.color_palette())\n",
    "\n",
    "off_diag_start = static_scores.loc[static_scores['Reference'] == 0.0000]\n",
    "off_diag_start = off_diag_start.sort_values(by='Calculated', ignore_index=True)\n",
    "seaborn.regplot(data=off_diag_start, x=off_diag_start.index, y=score_cols[3], fit_reg=False, ax=ax[0], color='gray')\n",
    "\n",
    "for i, run in enumerate(runs):\n",
    "    off_diag = run.loc[run['Reference'] == 0.0000]\n",
    "    off_diag = off_diag.sort_values(by='Calculated', ignore_index=True)\n",
    "\n",
    "    color = next(palette)\n",
    "    seaborn.regplot(data=off_diag, x=off_diag.index, y=score_cols[3], fit_reg=False, ax=ax[i+1], color=color)\n",
    "\n",
    "plt.show()\n"
   ]
  },
  {
   "cell_type": "code",
   "execution_count": null,
   "metadata": {},
   "outputs": [],
   "source": [
    "# VIOLIN Plot only off diagonal elements\n",
    "\n",
    "\n",
    "fig, ax = plt.subplots(1, 1, figsize=(16, 8))\n",
    "off_diag_merged = pd.concat([run.loc[run['Reference'] == 0.0000] for run in runs])\n",
    "off_diag_merged = pd.concat([off_diag_merged, off_diag_start])\n",
    "off_diag_merged = off_diag_merged.sort_values(by='Calculated')\n",
    "\n",
    "seaborn.boxplot(data=off_diag_merged, x='FF', y=score_cols[3])\n",
    "\n",
    "plt.show()"
   ]
  },
  {
   "cell_type": "code",
   "execution_count": null,
   "metadata": {},
   "outputs": [],
   "source": [
    "# Plot Diagonal Elements with a linear fit\n",
    "\n",
    "fig, ax = plt.subplots(1, 4, figsize=(32,8))\n",
    "palette = itertools.cycle(seaborn.color_palette())\n",
    "\n",
    "diag = static_scores.loc[static_scores['Reference'] != 0.0000]\n",
    "slope, intercept, r2, pv, se = stats.linregress(diag['Reference'], diag['Calculated'])\n",
    "\n",
    "seaborn.regplot(data=diag, x='Calculated', y='Reference', color=next(palette), line_kws={'label':'$y=%3.7s*x+%3.7s   r2:%3.7s$'%(slope, intercept, r2)}, ax=ax[0])\n",
    "ax[0].legend()\n",
    "\n",
    "for i, run in enumerate(runs):\n",
    "    diag = run.loc[run['Reference'] != 0.0000]\n",
    "    slope, intercept, r2, pv, se = stats.linregress(diag['Reference'], diag['Calculated'])\n",
    "    \n",
    "    seaborn.regplot(data=diag, x='Calculated', y='Reference', color=next(palette), line_kws={'label':'$y=%3.7s*x+%3.7s   r2:%3.7s$'%(slope, intercept, r2)}, ax=ax[i+1])\n",
    "\n",
    "    ax[i+1].legend()"
   ]
  },
  {
   "cell_type": "code",
   "execution_count": null,
   "metadata": {},
   "outputs": [],
   "source": [
    "%matplotlib inline\n",
    "# Plot FCs\n",
    "\n",
    "bonds = []\n",
    "angles = []\n",
    "\n",
    "for directory in directory_list:\n",
    "    bonds.append(pd.read_csv(os.path.join(base_directory, directory, 'rh_qstatic_ho_end.fld'), skiprows=lambda x: x not in bond_rows, delim_whitespace=True, names=bond_cols).assign(FF=directory))\n",
    "    angles.append(pd.read_csv(os.path.join(base_directory, directory, 'rh_qstatic_ho_end.fld'), skiprows=lambda x: x not in angle_rows, delim_whitespace=True, names=angle_cols).assign(FF=directory))\n"
   ]
  },
  {
   "cell_type": "code",
   "execution_count": null,
   "metadata": {},
   "outputs": [],
   "source": [
    "fig, ax = plt.subplots(1, 2, figsize=(24, 8))\n",
    "fig.suptitle('STATIC FC Estimate under a DE-throughout HO - Rh Hyd Enamides')\n",
    "ax[0].set_title('Bonds')\n",
    "ax[1].set_title('Angles')\n",
    "\n",
    "palette = itertools.cycle(seaborn.color_palette())\n",
    "\n",
    "for i in range(len(directory_list)):\n",
    "    color = next(palette)\n",
    "    seaborn.regplot(data=bonds[i], x = bonds[i].index, y=\"Force Constant\", fit_reg=False, ax=ax[0], color=color)\n",
    "    seaborn.regplot(data=angles[i], x = angles[i].index, y=\"Force Constant\", fit_reg=False, ax=ax[1], color=color)\n",
    "\n",
    "\n",
    "plt.show()"
   ]
  },
  {
   "cell_type": "markdown",
   "metadata": {},
   "source": [
    "HYBRID TAPER"
   ]
  },
  {
   "cell_type": "code",
   "execution_count": null,
   "metadata": {},
   "outputs": [],
   "source": [
    "base_directory = '/home/mfarrugi/repos/q2mm/rh-hybrid/static_start/tight_spread/freq_de_tapered'\n",
    "directory_list = ['1', '2', '3']"
   ]
  },
  {
   "cell_type": "code",
   "execution_count": null,
   "metadata": {},
   "outputs": [],
   "source": [
    "%matplotlib inline\n",
    "# HYBRID NO TAPER\n",
    "fig, ax = plt.subplots(1, 2, figsize=(24, 8))\n",
    "fig.suptitle('STATIC FC Estimate under a DE-freq-tapered HO - Rh Hyd Enamides')\n",
    "ax[0].set_title('Score Diversity Throughout Parameterization')\n",
    "ax[1].set_title('Loss, aka Best Score Throughout Parameterization')\n",
    "\n",
    "ax[0].axhline(y=static_score, color='gray')\n",
    "ax[1].axhline(y=static_score, color='gray')\n",
    "\n",
    "for directory in directory_list:\n",
    "\n",
    "    swarm_history_file = open(os.path.join(base_directory, directory, 'hybrid_opt_history.bin'), 'rb')\n",
    "    swarm_history = pickle.load(swarm_history_file)\n",
    "    swarm_history_file.close()\n",
    "    num_iters = len(swarm_history['Y'])\n",
    "    num_ffs = len(swarm_history['Y'][0])\n",
    "    assert num_ffs == num_particles\n",
    "    color = next(ax[0]._get_lines.prop_cycler)['color']\n",
    "    Y_history = pd.DataFrame(np.array(swarm_history['Y']).reshape((num_iters, num_ffs)))\n",
    "    ax[0].plot(Y_history.index, Y_history.values, '.', color=color)\n",
    "    loss = Y_history.min(axis=1).cummin()\n",
    "    loss.plot(kind='line', ax=ax[1], color=color, label='Final Score: '+str(loss.iloc[-1]))\n",
    "\n",
    "ax[1].legend()\n",
    "\n",
    "ax[0].xaxis.set_ticks(np.arange(1, ax[0].get_xlim()[1], cycle_iter_length))\n",
    "ax[1].xaxis.set_ticks(np.arange(1, ax[0].get_xlim()[1], cycle_iter_length))\n",
    "\n",
    "plt.show()"
   ]
  },
  {
   "cell_type": "code",
   "execution_count": null,
   "metadata": {},
   "outputs": [],
   "source": [
    "%matplotlib inline\n",
    "# Plot Scores\n",
    "\n",
    "score_cols = [\"Label\", \"Weight\", \"Reference\", \"Calculated\", \"Score\", \"FF\"]\n",
    "runs = []\n",
    "for directory in directory_list:\n",
    "    runs.append(pd.read_csv(os.path.join(base_directory, directory, 'rh_qstatic_ho_end.txt'), skiprows=[0, 1, 106390, 106391, 106392, 106393, 106394, 106395, 106396, 106397, 106398, 106399, 106400, 106401], delim_whitespace=True, names=score_cols).assign(FF=directory))\n"
   ]
  },
  {
   "cell_type": "code",
   "execution_count": null,
   "metadata": {},
   "outputs": [],
   "source": [
    "fig, ax = plt.subplots(1, len(runs)+1, figsize=(25, 8))\n",
    "palette = itertools.cycle(seaborn.color_palette())\n",
    "\n",
    "#TODO plot against starting point\n",
    "color = next(palette)\n",
    "seaborn.regplot(data=static_scores, x=score_cols[2], y=score_cols[3], fit_reg=True, ax=ax[0], color=color)\n",
    "ax[0].set_ylim(top=5000)\n",
    "ax[0].set_xlim(xmax = 5000)\n",
    "\n",
    "for i, run in enumerate(runs):\n",
    "    color = next(palette)\n",
    "    seaborn.regplot(data=run, x=score_cols[2], y=score_cols[3], fit_reg=True, ax=ax[i+1], color=color)\n",
    "\n",
    "    ax[i+1].set_ylim(top=5000)\n",
    "    ax[i+1].set_xlim(xmax = 5000)\n",
    "\n",
    "plt.show()"
   ]
  },
  {
   "cell_type": "code",
   "execution_count": null,
   "metadata": {},
   "outputs": [],
   "source": [
    "# Plot only off diagonal elements\n",
    "\n",
    "\n",
    "fig, ax = plt.subplots(1, 4, figsize=(32, 10))\n",
    "palette = itertools.cycle(seaborn.color_palette())\n",
    "\n",
    "off_diag_start = static_scores.loc[static_scores['Reference'] == 0.0000]\n",
    "off_diag_start = off_diag_start.sort_values(by='Calculated', ignore_index=True)\n",
    "seaborn.regplot(data=off_diag_start, x=off_diag_start.index, y=score_cols[3], fit_reg=False, ax=ax[0], color='gray')\n",
    "\n",
    "for i, run in enumerate(runs):\n",
    "    off_diag = run.loc[run['Reference'] == 0.0000]\n",
    "    off_diag = off_diag.sort_values(by='Calculated', ignore_index=True)\n",
    "\n",
    "    color = next(palette)\n",
    "    seaborn.regplot(data=off_diag, x=off_diag.index, y=score_cols[3], fit_reg=False, ax=ax[i+1], color=color)\n",
    "\n",
    "plt.show()\n"
   ]
  },
  {
   "cell_type": "code",
   "execution_count": null,
   "metadata": {},
   "outputs": [],
   "source": [
    "# VIOLIN Plot only off diagonal elements\n",
    "\n",
    "\n",
    "fig, ax = plt.subplots(1, 1, figsize=(16, 8))\n",
    "off_diag_merged = pd.concat([run.loc[run['Reference'] == 0.0000] for run in runs])\n",
    "off_diag_merged = pd.concat([off_diag_merged, off_diag_start])\n",
    "off_diag_merged = off_diag_merged.sort_values(by='Calculated')\n",
    "\n",
    "seaborn.boxplot(data=off_diag_merged, x='FF', y=score_cols[3])\n",
    "\n",
    "plt.show()"
   ]
  },
  {
   "cell_type": "code",
   "execution_count": null,
   "metadata": {},
   "outputs": [],
   "source": [
    "# Plot Diagonal Elements with a linear fit\n",
    "\n",
    "fig, ax = plt.subplots(1, 4, figsize=(32,8))\n",
    "palette = itertools.cycle(seaborn.color_palette())\n",
    "\n",
    "diag = static_scores.loc[static_scores['Reference'] != 0.0000]\n",
    "slope, intercept, r2, pv, se = stats.linregress(diag['Reference'], diag['Calculated'])\n",
    "\n",
    "seaborn.regplot(data=diag, x='Calculated', y='Reference', color=next(palette), line_kws={'label':'$y=%3.7s*x+%3.7s   r2:%3.7s$'%(slope, intercept, r2)}, ax=ax[0])\n",
    "ax[0].legend()\n",
    "\n",
    "for i, run in enumerate(runs):\n",
    "    diag = run.loc[run['Reference'] != 0.0000]\n",
    "    slope, intercept, r2, pv, se = stats.linregress(diag['Reference'], diag['Calculated'])\n",
    "    \n",
    "    seaborn.regplot(data=diag, x='Calculated', y='Reference', color=next(palette), line_kws={'label':'$y=%3.7s*x+%3.7s   r2:%3.7s$'%(slope, intercept, r2)}, ax=ax[i+1])\n",
    "\n",
    "    ax[i+1].legend()"
   ]
  },
  {
   "cell_type": "code",
   "execution_count": null,
   "metadata": {},
   "outputs": [],
   "source": [
    "%matplotlib inline\n",
    "# Plot FCs\n",
    "\n",
    "bonds = []\n",
    "angles = []\n",
    "\n",
    "for directory in directory_list:\n",
    "    bonds.append(pd.read_csv(os.path.join(base_directory, directory, 'rh_qstatic_ho_end.fld'), skiprows=lambda x: x not in bond_rows, delim_whitespace=True, names=bond_cols).assign(FF=directory))\n",
    "    angles.append(pd.read_csv(os.path.join(base_directory, directory, 'rh_qstatic_ho_end.fld'), skiprows=lambda x: x not in angle_rows, delim_whitespace=True, names=angle_cols).assign(FF=directory))\n"
   ]
  },
  {
   "cell_type": "code",
   "execution_count": null,
   "metadata": {},
   "outputs": [],
   "source": [
    "fig, ax = plt.subplots(1, 2, figsize=(24, 8))\n",
    "fig.suptitle('STATIC FC Estimate under a DE-freq-tapered HO - Rh Hyd Enamides')\n",
    "ax[0].set_title('Bonds')\n",
    "ax[1].set_title('Angles')\n",
    "\n",
    "palette = itertools.cycle(seaborn.color_palette())\n",
    "\n",
    "for i in range(len(directory_list)):\n",
    "    color = next(palette)\n",
    "    seaborn.regplot(data=bonds[i], x = bonds[i].index, y=\"Force Constant\", fit_reg=False, ax=ax[0], color=color)\n",
    "    seaborn.regplot(data=angles[i], x = angles[i].index, y=\"Force Constant\", fit_reg=False, ax=ax[1], color=color)\n",
    "\n",
    "\n",
    "plt.show()"
   ]
  },
  {
   "cell_type": "code",
   "execution_count": null,
   "metadata": {},
   "outputs": [],
   "source": []
  }
 ],
 "metadata": {
  "kernelspec": {
   "display_name": "schrodinger.ve",
   "language": "python",
   "name": "python3"
  },
  "language_info": {
   "codemirror_mode": {
    "name": "ipython",
    "version": 3
   },
   "file_extension": ".py",
   "mimetype": "text/x-python",
   "name": "python",
   "nbconvert_exporter": "python",
   "pygments_lexer": "ipython3",
   "version": "3.8.10"
  }
 },
 "nbformat": 4,
 "nbformat_minor": 2
}
