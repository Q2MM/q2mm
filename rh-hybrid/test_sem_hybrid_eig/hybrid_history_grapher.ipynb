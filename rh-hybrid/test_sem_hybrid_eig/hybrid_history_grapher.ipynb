{
 "cells": [
  {
   "cell_type": "code",
   "execution_count": 4,
   "metadata": {},
   "outputs": [],
   "source": [
    "import os\n",
    "import matplotlib.pyplot as plt\n",
    "from pathlib import Path\n",
    "import numpy as np\n",
    "import sys\n",
    "from matplotlib import animation, rc\n",
    "from IPython.display import HTML, Image\n",
    "import seaborn\n",
    "\n",
    "seaborn.set_theme(style=\"whitegrid\", palette='pastel')\n",
    "\n",
    "#src_dir = os.path.abspath(\"/home/mmfarrugia/repos/q2mm/q2mm\")\n",
    "sys.path.append(\"/home/mfarrugi/repos/q2mm/rh-hybrid/schrodinger.ve/lib/python3.8/site-packages/q2mm-0.0.0-py3.8.egg\")\n",
    "\n",
    "#from hybrid_optimizer import PSO_GA\n",
    "import q2mm.constants\n",
    "import q2mm.hybrid_optimizer as hybrid_optimizer\n",
    "from q2mm.hybrid_optimizer import PSO_GA\n",
    "from tools.plotters import plot_cost_history, plot_contour, plot_surface, plot_summary, Mesher, Designer\n",
    "\n"
   ]
  },
  {
   "cell_type": "code",
   "execution_count": 6,
   "metadata": {},
   "outputs": [
    {
     "name": "stdout",
     "output_type": "stream",
     "text": [
      "{'X': [], 'V': [], 'Y': []}\n"
     ]
    },
    {
     "data": {
      "image/png": "[encoded data removed]",
      "text/plain": [
       "<Figure size 432x288 with 4 Axes>"
      ]
     },
     "metadata": {
      "needs_background": "light"
     },
     "output_type": "display_data"
    }
   ],
   "source": [
    "%matplotlib inline\n",
    "import pickle\n",
    "swarm_history_file = open('/home/mfarrugi/repos/q2mm/rh-hybrid/test_sem_hybrid_eig/hybrid_opt_history.bin', 'rb')\n",
    "swarm_history = pickle.load(swarm_history_file)\n",
    "swarm_history_file.close()\n",
    "print(str(swarm_history))\n",
    "#print('best_x is ', swarm_best.gbest_x, 'best_y is', swarm_best.gbest_y)\n",
    "#plt.plot(swarm_best.gbest_y_hist)\n",
    "#plt.show()\n",
    "import pandas as pd\n",
    "\n",
    "#Y_history_rand = pd.DataFrame(np.array(swarm_opt.record_value['Y']).reshape((-1, swarm_opt.size_pop)))\n",
    "Y_history_best = pd.DataFrame(np.array(swarm_history['Y']).reshape((-1, 2)))\n",
    "fig, ax = plt.subplots(2, 2)\n",
    "fig.suptitle('Rh-Hyd Enamides - Post-FUERZA')\n",
    "#ax[0,0].set_title('DE/rand/1')\n",
    "ax[0,1].set_title('DE/best/1')\n",
    "#ax[1,0].set_title(str(ho_rand_1.gbest_y)+' @ X: '+str(ho_rand_1.gbest_x))\n",
    "#ax[1,1].set_title(str(swarm_best.gbest_y)+' @ X: '+str(swarm_best.gbest_x))\n",
    "#ax[0,0].plot(Y_history_rand.index, Y_history_rand.values, '.', color='red')\n",
    "ax[0,1].plot(Y_history_best.index, Y_history_best.values, '.', color='red')\n",
    "#Y_history_rand.min(axis=1).cummin().plot(kind='line', ax=ax[1,0])\n",
    "Y_history_best.min(axis=1).cummin().plot(kind='line', ax=ax[1,1])\n",
    "plt.show()"
   ]
  },
  {
   "cell_type": "code",
   "execution_count": null,
   "metadata": {},
   "outputs": [],
   "source": []
  },
  {
   "cell_type": "code",
   "execution_count": null,
   "metadata": {},
   "outputs": [],
   "source": [
    "import pickle\n",
    "best_1 = pickle.load('/home/mfarrugi/repos/q2mm/rh-hybrid/test_sem_hybrid_eig/swarm_10_out.bin')\n",
    "print('best_x is ', best_1.gbest_x, 'best_y is', best_1.gbest_y)\n",
    "plt.plot(best_1.gbest_y_hist)\n",
    "plt.show()\n",
    "import pandas as pd\n",
    "\n",
    "Y_history_rand = pd.DataFrame(np.array(swarm_opt.record_value['Y']).reshape((-1, swarm_opt.size_pop)))\n",
    "Y_history_best = pd.DataFrame(np.array(best_1.record_value['Y']).reshape((-1, best_1.size_pop)))\n",
    "fig, ax = plt.subplots(2, 2)\n",
    "fig.suptitle('Rh-Hyd Enamides - Post-FUERZA')\n",
    "#ax[0,0].set_title('DE/rand/1')\n",
    "ax[0,1].set_title('DE/best/1')\n",
    "#ax[1,0].set_title(str(ho_rand_1.gbest_y)+' @ X: '+str(ho_rand_1.gbest_x))\n",
    "ax[1,1].set_title(str(best_1.gbest_y)+' @ X: '+str(best_1.gbest_x))\n",
    "#ax[0,0].plot(Y_history_rand.index, Y_history_rand.values, '.', color='red')\n",
    "ax[0,1].plot(Y_history_best.index, Y_history_best.values, '.', color='red')\n",
    "#Y_history_rand.min(axis=1).cummin().plot(kind='line', ax=ax[1,0])\n",
    "Y_history_best.min(axis=1).cummin().plot(kind='line', ax=ax[1,1])\n",
    "plt.show()"
   ]
  }
 ],
 "metadata": {
  "kernelspec": {
   "display_name": "schrodinger.ve",
   "language": "python",
   "name": "python3"
  },
  "language_info": {
   "codemirror_mode": {
    "name": "ipython",
    "version": 3
   },
   "file_extension": ".py",
   "mimetype": "text/x-python",
   "name": "python",
   "nbconvert_exporter": "python",
   "pygments_lexer": "ipython3",
   "version": "3.8.10"
  }
 },
 "nbformat": 4,
 "nbformat_minor": 2
}
