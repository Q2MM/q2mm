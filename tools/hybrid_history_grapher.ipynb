{
 "cells": [
  {
   "cell_type": "code",
   "execution_count": 23,
   "metadata": {},
   "outputs": [
    {
     "ename": "ModuleNotFoundError",
     "evalue": "No module named 'hybrid_optimizer'",
     "output_type": "error",
     "traceback": [
      "\u001b[0;31m---------------------------------------------------------------------------\u001b[0m",
      "\u001b[0;31mModuleNotFoundError\u001b[0m                       Traceback (most recent call last)",
      "\u001b[0;32m<ipython-input-23-5457d043a4e8>\u001b[0m in \u001b[0;36m<module>\u001b[0;34m\u001b[0m\n\u001b[1;32m     15\u001b[0m \u001b[0;31m#from hybrid_optimizer import PSO_GA\u001b[0m\u001b[0;34m\u001b[0m\u001b[0;34m\u001b[0m\u001b[0;34m\u001b[0m\u001b[0m\n\u001b[1;32m     16\u001b[0m \u001b[0;32mfrom\u001b[0m \u001b[0mplotters\u001b[0m \u001b[0;32mimport\u001b[0m \u001b[0mplot_cost_history\u001b[0m\u001b[0;34m,\u001b[0m \u001b[0mplot_contour\u001b[0m\u001b[0;34m,\u001b[0m \u001b[0mplot_surface\u001b[0m\u001b[0;34m,\u001b[0m \u001b[0mplot_summary\u001b[0m\u001b[0;34m,\u001b[0m \u001b[0mMesher\u001b[0m\u001b[0;34m,\u001b[0m \u001b[0mDesigner\u001b[0m\u001b[0;34m\u001b[0m\u001b[0;34m\u001b[0m\u001b[0m\n\u001b[0;32m---> 17\u001b[0;31m \u001b[0;32mfrom\u001b[0m \u001b[0mhybrid_optimizer\u001b[0m \u001b[0;32mimport\u001b[0m \u001b[0mPSO_GA\u001b[0m\u001b[0;34m\u001b[0m\u001b[0;34m\u001b[0m\u001b[0m\n\u001b[0m\u001b[1;32m     18\u001b[0m \u001b[0;32mimport\u001b[0m \u001b[0mexample_funcs\u001b[0m\u001b[0;34m\u001b[0m\u001b[0;34m\u001b[0m\u001b[0m\n\u001b[1;32m     19\u001b[0m \u001b[0;34m\u001b[0m\u001b[0m\n",
      "\u001b[0;31mModuleNotFoundError\u001b[0m: No module named 'hybrid_optimizer'"
     ]
    }
   ],
   "source": [
    "import os\n",
    "import matplotlib.pyplot as plt\n",
    "from pathlib import Path\n",
    "import numpy as np\n",
    "import sys\n",
    "from matplotlib import animation, rc\n",
    "from IPython.display import HTML, Image\n",
    "import seaborn\n",
    "\n",
    "seaborn.set_theme(style=\"whitegrid\", palette='pastel')\n",
    "\n",
    "#src_dir = os.path.abspath(\"/home/mmfarrugia/repos/q2mm/q2mm\")\n",
    "sys.path.append(\"/home/mmfarrugia/repos/q2mm/q2mm\")\n",
    "\n",
    "#from hybrid_optimizer import PSO_GA\n",
    "from plotters import plot_cost_history, plot_contour, plot_surface, plot_summary, Mesher, Designer\n",
    "from hybrid_optimizer import PSO_GA\n",
    "import example_funcs\n",
    "\n"
   ]
  },
  {
   "cell_type": "code",
   "execution_count": null,
   "metadata": {},
   "outputs": [],
   "source": [
    "import pickle\n",
    "swarm_opt = pickle.load('/home/mfarrugi/repos/q2mm/rh-hybrid/test_sem_hybrid_eig/swarm_10_out.bin')\n",
    "print('best_x is ', swarm_opt.gbest_x, 'best_y is', swarm_opt.gbest_y)\n",
    "plt.plot(swarm_opt.gbest_y_hist)\n",
    "plt.show()\n",
    "import pandas as pd\n",
    "\n",
    "#Y_history_rand = pd.DataFrame(np.array(swarm_opt.record_value['Y']).reshape((-1, swarm_opt.size_pop)))\n",
    "Y_history_best = pd.DataFrame(np.array(swarm_opt.record_value['Y']).reshape((-1, swarm_opt.size_pop)))\n",
    "fig, ax = plt.subplots(2, 2)\n",
    "fig.suptitle('Rh-Hyd Enamides - Post-FUERZA')\n",
    "#ax[0,0].set_title('DE/rand/1')\n",
    "ax[0,1].set_title('DE/best/1')\n",
    "#ax[1,0].set_title(str(ho_rand_1.gbest_y)+' @ X: '+str(ho_rand_1.gbest_x))\n",
    "ax[1,1].set_title(str(swarm_opt.gbest_y)+' @ X: '+str(swarm_opt.gbest_x))\n",
    "#ax[0,0].plot(Y_history_rand.index, Y_history_rand.values, '.', color='red')\n",
    "ax[0,1].plot(Y_history_best.index, Y_history_best.values, '.', color='red')\n",
    "#Y_history_rand.min(axis=1).cummin().plot(kind='line', ax=ax[1,0])\n",
    "Y_history_best.min(axis=1).cummin().plot(kind='line', ax=ax[1,1])\n",
    "plt.show()"
   ]
  },
  {
   "cell_type": "code",
   "execution_count": null,
   "metadata": {},
   "outputs": [],
   "source": []
  },
  {
   "cell_type": "code",
   "execution_count": null,
   "metadata": {},
   "outputs": [],
   "source": [
    "import pickle\n",
    "best_1 = pickle.load('/home/mfarrugi/repos/q2mm/rh-hybrid/test_sem_hybrid_eig/swarm_10_out.bin')\n",
    "print('best_x is ', best_1.gbest_x, 'best_y is', best_1.gbest_y)\n",
    "plt.plot(best_1.gbest_y_hist)\n",
    "plt.show()\n",
    "import pandas as pd\n",
    "\n",
    "Y_history_rand = pd.DataFrame(np.array(swarm_opt.record_value['Y']).reshape((-1, swarm_opt.size_pop)))\n",
    "Y_history_best = pd.DataFrame(np.array(best_1.record_value['Y']).reshape((-1, best_1.size_pop)))\n",
    "fig, ax = plt.subplots(2, 2)\n",
    "fig.suptitle('Rh-Hyd Enamides - Post-FUERZA')\n",
    "#ax[0,0].set_title('DE/rand/1')\n",
    "ax[0,1].set_title('DE/best/1')\n",
    "#ax[1,0].set_title(str(ho_rand_1.gbest_y)+' @ X: '+str(ho_rand_1.gbest_x))\n",
    "ax[1,1].set_title(str(best_1.gbest_y)+' @ X: '+str(best_1.gbest_x))\n",
    "#ax[0,0].plot(Y_history_rand.index, Y_history_rand.values, '.', color='red')\n",
    "ax[0,1].plot(Y_history_best.index, Y_history_best.values, '.', color='red')\n",
    "#Y_history_rand.min(axis=1).cummin().plot(kind='line', ax=ax[1,0])\n",
    "Y_history_best.min(axis=1).cummin().plot(kind='line', ax=ax[1,1])\n",
    "plt.show()"
   ]
  }
 ],
 "metadata": {
  "kernelspec": {
   "display_name": "schrodinger.ve",
   "language": "python",
   "name": "python3"
  },
  "language_info": {
   "codemirror_mode": {
    "name": "ipython",
    "version": 3
   },
   "file_extension": ".py",
   "mimetype": "text/x-python",
   "name": "python",
   "nbconvert_exporter": "python",
   "pygments_lexer": "ipython3",
   "version": "3.8.10"
  }
 },
 "nbformat": 4,
 "nbformat_minor": 2
}
